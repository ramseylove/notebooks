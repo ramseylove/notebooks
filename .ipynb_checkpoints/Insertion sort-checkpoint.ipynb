{
 "cells": [
  {
   "cell_type": "markdown",
   "id": "2fcc2951",
   "metadata": {},
   "source": [
    "# Insertion Sort"
   ]
  },
  {
   "cell_type": "code",
   "execution_count": 3,
   "id": "e0609867",
   "metadata": {},
   "outputs": [],
   "source": [
    "array = [8, 5, 2, 9, 5, 6, 3]"
   ]
  },
  {
   "cell_type": "code",
   "execution_count": 2,
   "id": "29265b8c",
   "metadata": {},
   "outputs": [],
   "source": [
    "def insertionSort(array):\n",
    "    for i in range(1, len(array)):\n",
    "        j = i\n",
    "        while j > 0 and array[j] < array[j - 1]: # 8 < 9\n",
    "    # j is tracking the temporary sorted list at beginning of array\n",
    "            swap(j, j - 1, array)\n",
    "    # 5, 8, 2, 9, 5, 6, 3\n",
    "            j -= 1\n",
    "        # loop around the while loop until j hits 0, then back into the for loop\n",
    "        # and next element is larger than previous ie 8,9\n",
    "    return array\n",
    "\n",
    "def swap(i, j, array):\n",
    "    array[i], array[j] = array[j], array[i]"
   ]
  },
  {
   "cell_type": "markdown",
   "id": "d7b2133a",
   "metadata": {},
   "source": [
    "[8, 5, 2, 9, 5, 6, 3]\n",
    "1. 5 is less than 8, swap \n",
    " \n",
    "[5, 8, 2, 9, 5, 6, 3]\n",
    "2. 2 is less than 8, swap, 2 is less than 5, swap\n",
    "\n",
    "[2, 5, 8, 9, 5, 6, 3]\n",
    "3. 9 is not less than 8\n",
    "\n",
    "[2, 5, 8, 9, 5, 6, 3]\n",
    "4. 5 is less than 9, swap, 5 is less than 8,swap 5 is not less than 5\n",
    "\n",
    "[2, 5, 6, 8, 9, 5, 3]\n",
    "5. 6 is less than 9, swap, 6 is less than 8,swap, 6 is not less than 5\n",
    "\n",
    "[2, 3, 5, 6, 8, 9, 5]\n",
    "6. 3 is less than 9, swap, 3 is less than 8, swap, 3 is less than 6, swap, three is less than 5, swap, three is less than 5 swap, 3 is not less than 2\n"
   ]
  },
  {
   "cell_type": "code",
   "execution_count": 4,
   "id": "8843368f",
   "metadata": {},
   "outputs": [],
   "source": [
    "s_array = [8, 5, 2, 9, 5, 6, 3]"
   ]
  },
  {
   "cell_type": "code",
   "execution_count": 5,
   "id": "c6f76640",
   "metadata": {},
   "outputs": [],
   "source": [
    "def swap(i, j, array):\n",
    "    array[i], array[j] = array[j], array[i]"
   ]
  },
  {
   "cell_type": "code",
   "execution_count": null,
   "id": "3412fac2",
   "metadata": {},
   "outputs": [],
   "source": []
  }
 ],
 "metadata": {
  "kernelspec": {
   "display_name": "Python 3 (ipykernel)",
   "language": "python",
   "name": "python3"
  },
  "language_info": {
   "codemirror_mode": {
    "name": "ipython",
    "version": 3
   },
   "file_extension": ".py",
   "mimetype": "text/x-python",
   "name": "python",
   "nbconvert_exporter": "python",
   "pygments_lexer": "ipython3",
   "version": "3.8.6"
  }
 },
 "nbformat": 4,
 "nbformat_minor": 5
}
