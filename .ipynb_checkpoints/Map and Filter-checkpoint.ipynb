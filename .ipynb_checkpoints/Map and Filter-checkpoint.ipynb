{
 "cells": [
  {
   "cell_type": "code",
   "execution_count": 1,
   "id": "acfc059c",
   "metadata": {},
   "outputs": [],
   "source": [
    "from copy import copy"
   ]
  },
  {
   "cell_type": "code",
   "execution_count": 87,
   "id": "32ee0616",
   "metadata": {},
   "outputs": [],
   "source": [
    "backwards = [\n",
    "    'tac',\n",
    "    'esuoheerT',\n",
    "    'htenneK',\n",
    "    [5, 4, 3, 2, 1],\n",
    "]"
   ]
  },
  {
   "cell_type": "code",
   "execution_count": 99,
   "id": "54c2ef0e",
   "metadata": {},
   "outputs": [],
   "source": [
    "def reverse(itr):\n",
    "    item = copy(itr)\n",
    "    sorted_items = item[::-1]\n",
    "    return sorted_items"
   ]
  },
  {
   "cell_type": "code",
   "execution_count": 55,
   "id": "010a0d2b",
   "metadata": {},
   "outputs": [],
   "source": [
    "def reverse(itr):\n",
    "    item = copy(itr)\n",
    "    sorted_item = list(reversed(item))\n",
    "    return sorted_item"
   ]
  },
  {
   "cell_type": "code",
   "execution_count": 33,
   "id": "b26a6722",
   "metadata": {},
   "outputs": [],
   "source": [
    "def reverse(itr):\n",
    "    item = copy(itr)\n",
    "    sorted_items = [(i) for i in reversed(i)]\n",
    "    return sorted_items"
   ]
  },
  {
   "cell_type": "code",
   "execution_count": 97,
   "id": "4369ef6a",
   "metadata": {},
   "outputs": [],
   "source": [
    "def reverse(item):\n",
    "    item = copy(item)\n",
    "    reversed_item = ''\n",
    "    if isinstance(item, str):  \n",
    "        reversed_lst = list(reversed(item))\n",
    "        return ''.join(reversed_lst)\n",
    "    elif isinstance(item, list):\n",
    "        return list(reversed(item))\n",
    "    else:\n",
    "        print(f'{item} is not a string or list')\n",
    "        return item"
   ]
  },
  {
   "cell_type": "code",
   "execution_count": 100,
   "id": "ef8d57db",
   "metadata": {},
   "outputs": [
    {
     "ename": "TypeError",
     "evalue": "'int' object is not subscriptable",
     "output_type": "error",
     "traceback": [
      "\u001b[0;31m---------------------------------------------------------------------------\u001b[0m",
      "\u001b[0;31mTypeError\u001b[0m                                 Traceback (most recent call last)",
      "\u001b[0;32m/var/folders/mw/2s_tsy953sd_nf2f2hvbr0n00000gn/T/ipykernel_22850/22667163.py\u001b[0m in \u001b[0;36m<module>\u001b[0;34m\u001b[0m\n\u001b[0;32m----> 1\u001b[0;31m \u001b[0mlist\u001b[0m\u001b[0;34m(\u001b[0m\u001b[0mmap\u001b[0m\u001b[0;34m(\u001b[0m\u001b[0mreverse\u001b[0m\u001b[0;34m,\u001b[0m \u001b[0mbackwards\u001b[0m\u001b[0;34m)\u001b[0m\u001b[0;34m)\u001b[0m\u001b[0;34m\u001b[0m\u001b[0;34m\u001b[0m\u001b[0m\n\u001b[0m",
      "\u001b[0;32m/var/folders/mw/2s_tsy953sd_nf2f2hvbr0n00000gn/T/ipykernel_22850/3022537791.py\u001b[0m in \u001b[0;36mreverse\u001b[0;34m(itr)\u001b[0m\n\u001b[1;32m      1\u001b[0m \u001b[0;32mdef\u001b[0m \u001b[0mreverse\u001b[0m\u001b[0;34m(\u001b[0m\u001b[0mitr\u001b[0m\u001b[0;34m)\u001b[0m\u001b[0;34m:\u001b[0m\u001b[0;34m\u001b[0m\u001b[0;34m\u001b[0m\u001b[0m\n\u001b[1;32m      2\u001b[0m     \u001b[0mitem\u001b[0m \u001b[0;34m=\u001b[0m \u001b[0mcopy\u001b[0m\u001b[0;34m(\u001b[0m\u001b[0mitr\u001b[0m\u001b[0;34m)\u001b[0m\u001b[0;34m\u001b[0m\u001b[0;34m\u001b[0m\u001b[0m\n\u001b[0;32m----> 3\u001b[0;31m     \u001b[0msorted_items\u001b[0m \u001b[0;34m=\u001b[0m \u001b[0mitem\u001b[0m\u001b[0;34m[\u001b[0m\u001b[0;34m:\u001b[0m\u001b[0;34m:\u001b[0m\u001b[0;34m-\u001b[0m\u001b[0;36m1\u001b[0m\u001b[0;34m]\u001b[0m\u001b[0;34m\u001b[0m\u001b[0;34m\u001b[0m\u001b[0m\n\u001b[0m\u001b[1;32m      4\u001b[0m     \u001b[0;32mreturn\u001b[0m \u001b[0msorted_items\u001b[0m\u001b[0;34m\u001b[0m\u001b[0;34m\u001b[0m\u001b[0m\n",
      "\u001b[0;31mTypeError\u001b[0m: 'int' object is not subscriptable"
     ]
    }
   ],
   "source": [
    "list(map(reverse, backwards))"
   ]
  },
  {
   "cell_type": "code",
   "execution_count": 79,
   "id": "7f5fac13",
   "metadata": {},
   "outputs": [],
   "source": [
    "cat = 'cat'"
   ]
  },
  {
   "cell_type": "code",
   "execution_count": 102,
   "id": "8efa33e9",
   "metadata": {},
   "outputs": [
    {
     "name": "stdout",
     "output_type": "stream",
     "text": [
      "tac\n"
     ]
    }
   ],
   "source": [
    "if isinstance(cat, str):  \n",
    "    reversed_lst = list(reversed(cat))\n",
    "    print(''.join(reversed_lst))"
   ]
  },
  {
   "cell_type": "code",
   "execution_count": 113,
   "id": "26764a8b",
   "metadata": {},
   "outputs": [],
   "source": [
    "import datetime\n",
    "# from operator import itemgetter, attrgetter"
   ]
  },
  {
   "cell_type": "code",
   "execution_count": 110,
   "id": "c973d1aa",
   "metadata": {},
   "outputs": [],
   "source": [
    "dates = [\n",
    "    datetime.datetime(2012, 12, 15),\n",
    "    datetime.datetime(1987, 8, 20),\n",
    "    datetime.datetime(1965, 2, 28),\n",
    "    datetime.datetime(2015, 4, 29),\n",
    "    datetime.datetime(2012, 6, 30),\n",
    "]"
   ]
  },
  {
   "cell_type": "code",
   "execution_count": 133,
   "id": "655c767f",
   "metadata": {
    "scrolled": true
   },
   "outputs": [],
   "source": [
    "def is_2012(day):\n",
    "#     year = attrgetter('year')\n",
    "    return day.year == 2012"
   ]
  },
  {
   "cell_type": "code",
   "execution_count": 134,
   "id": "6ae3e299",
   "metadata": {},
   "outputs": [],
   "source": [
    "goodyear = list(filter(is_2012, dates))"
   ]
  },
  {
   "cell_type": "code",
   "execution_count": 135,
   "id": "44828f88",
   "metadata": {},
   "outputs": [
    {
     "name": "stdout",
     "output_type": "stream",
     "text": [
      "2\n"
     ]
    }
   ],
   "source": [
    "print(len(goodyear))"
   ]
  },
  {
   "cell_type": "code",
   "execution_count": 142,
   "id": "f49ab4cb",
   "metadata": {},
   "outputs": [],
   "source": [
    "import json\n",
    "class Book:\n",
    "    def __init__(self, **kwargs):\n",
    "        for k, v in kwargs.items():\n",
    "            setattr(self, k, v)\n",
    "\n",
    "    def __str__(self):\n",
    "        return self.title\n",
    "    \n",
    "    def __repr__(self):\n",
    "        return str(self)\n",
    "    \n",
    "    \n",
    "def get_books(filename, raw=False):\n",
    "    try:\n",
    "        data = json.load(open(filename))\n",
    "    except FileNotFoundError:\n",
    "        return []\n",
    "    else:\n",
    "        if raw:\n",
    "            return data['books']\n",
    "        return [Book(**book) for book in data['books']]\n",
    "    \n",
    "BOOKS = get_books('books.json')\n",
    "RAW_BOOKS = get_books('books.json', raw=True)"
   ]
  },
  {
   "cell_type": "code",
   "execution_count": 148,
   "id": "70839875",
   "metadata": {},
   "outputs": [],
   "source": [
    "#pub_sort = sorted(RAW_BOOKS, key=itemgetter('publish_date'))\n",
    "#print(pub_sort[0]['publish_date'], pub_sort[-1]['publish_date'])\n",
    "       \n",
    "#pages_sort = sorted(BOOKS, key=attrgetter('number_of_pages'), reverse=True)\n",
    "#print(pages_sort[0].number_of_pages, pages_sort[-1].number_of_pages)"
   ]
  },
  {
   "cell_type": "code",
   "execution_count": 149,
   "id": "645ae447",
   "metadata": {},
   "outputs": [],
   "source": [
    "### MAP ###\n",
    "def sales_price(book):\n",
    "    \"\"\"Apply a 20% discount to the book's price\"\"\"\n",
    "    book = copy(book)\n",
    "    book.price = round(book.price-book.price*.2, 2) # rounding to 2 digits\n",
    "    return book\n",
    "\n",
    "#sales_books = list(map(sales_price, BOOKS)) # using map\n",
    "#sales_books2 = [sales_price(book) for book in BOOKS] # with list comprehension\n",
    "#print(BOOKS[0].price)\n",
    "#print(sales_books2[0].price)"
   ]
  },
  {
   "cell_type": "code",
   "execution_count": 150,
   "id": "bc51b379",
   "metadata": {},
   "outputs": [],
   "source": [
    "### Filter ###\n",
    "def is_long_book(book):\n",
    "    \"\"\" Does a book have 600+ pages?\"\"\"\n",
    "    return book.number_of_pages >= 600\n",
    "\n",
    "long_books = list(filter(is_long_book, BOOKS))\n",
    "long_books2 = [book for book in BOOKS if book.number_of_pages >= 600]\n",
    "#print(len(BOOKS))\n",
    "#print(len(long_books))\n",
    "#print(len(long_books2))"
   ]
  },
  {
   "cell_type": "code",
   "execution_count": 143,
   "id": "e90d6d36",
   "metadata": {},
   "outputs": [],
   "source": [
    "## chaining ##\n",
    "# finding Roland in any subject of books\n",
    "def has_roland(book):\n",
    "    # any returns true or false if ANY of the things return are true\n",
    "    # any evaluate truthiness based on whether the dictionary is empty or not\n",
    "    return any([\"Roland\" in subject for subject in book.subjects])\n",
    "#    return [\"Roland\" in subject for subject in book.subjects]"
   ]
  },
  {
   "cell_type": "code",
   "execution_count": 144,
   "id": "7a2ab7a2",
   "metadata": {},
   "outputs": [],
   "source": [
    "def titlecase(case):\n",
    "    book = copy(case)\n",
    "    # .title() gives back title case\n",
    "    book.title = book.title.title()\n",
    "    return book"
   ]
  },
  {
   "cell_type": "code",
   "execution_count": 145,
   "id": "8dd43c96",
   "metadata": {},
   "outputs": [
    {
     "name": "stdout",
     "output_type": "stream",
     "text": [
      "[The Drawing Of The Three (The Dark Tower, Book 2), Song Of Susannah (The Dark Tower, Book 6), The Dark Tower (The Dark Tower, Book 7), The Waste Lands (The Dark Tower, Book 3), Wizard And Glass, Wolves Of The Calla (The Dark Tower, Book 5), The Gunslinger (The Dark Tower, Book 1)]\n"
     ]
    }
   ],
   "source": [
    "print(list(map(titlecase, filter(has_roland, BOOKS))))"
   ]
  },
  {
   "cell_type": "code",
   "execution_count": 146,
   "id": "9bc99309",
   "metadata": {},
   "outputs": [],
   "source": [
    "def is_good_deal(book):\n",
    "    return book.price <= 5"
   ]
  },
  {
   "cell_type": "code",
   "execution_count": 151,
   "id": "b7aadc08",
   "metadata": {},
   "outputs": [],
   "source": [
    "# applying sales price function to books before filtering\n",
    "cheap_books = sorted(filter(is_good_deal, map(sales_price, BOOKS)), key=attrgetter('price'))"
   ]
  },
  {
   "cell_type": "code",
   "execution_count": 154,
   "id": "ced37a0e",
   "metadata": {},
   "outputs": [
    {
     "data": {
      "text/plain": [
       "2.8"
      ]
     },
     "execution_count": 154,
     "metadata": {},
     "output_type": "execute_result"
    }
   ],
   "source": [
    "cheap_books[0].price"
   ]
  },
  {
   "cell_type": "code",
   "execution_count": 155,
   "id": "640ba606",
   "metadata": {},
   "outputs": [],
   "source": [
    "birthdays = [\n",
    "    datetime.datetime(2012, 4, 29),\n",
    "    datetime.datetime(2006, 8, 9),\n",
    "    datetime.datetime(1978, 5, 16),\n",
    "    datetime.datetime(1981, 8, 15),\n",
    "    datetime.datetime(2001, 7, 4),\n",
    "    datetime.datetime(1999, 12, 30)\n",
    "]\n",
    "\n",
    "today = datetime.datetime.today()"
   ]
  },
  {
   "cell_type": "code",
   "execution_count": 160,
   "id": "fa204512",
   "metadata": {},
   "outputs": [
    {
     "data": {
      "text/plain": [
       "datetime.timedelta(days=3478, seconds=44563, microseconds=452720)"
      ]
     },
     "execution_count": 160,
     "metadata": {},
     "output_type": "execute_result"
    }
   ],
   "source": [
    "today - birthdays[0]"
   ]
  },
  {
   "cell_type": "code",
   "execution_count": 164,
   "id": "28d7d52b",
   "metadata": {},
   "outputs": [
    {
     "name": "stdout",
     "output_type": "stream",
     "text": [
      "3478\n"
     ]
    }
   ],
   "source": [
    "days = (today - birthdays[0]).days\n",
    "print(days)"
   ]
  },
  {
   "cell_type": "code",
   "execution_count": 165,
   "id": "28e04b7b",
   "metadata": {},
   "outputs": [],
   "source": [
    "def is_over_13(birthday):\n",
    "    days = (today - birthday).days\n",
    "    return days >= 4745"
   ]
  },
  {
   "cell_type": "code",
   "execution_count": 166,
   "id": "dd2967c0",
   "metadata": {},
   "outputs": [],
   "source": [
    "def date_string(day):\n",
    "    return day.strftime(\"%B %d\")"
   ]
  },
  {
   "cell_type": "code",
   "execution_count": 180,
   "id": "6eb7b19c",
   "metadata": {},
   "outputs": [],
   "source": [
    "birth_dates = filter(is_over_13, map(date_string, birthdays))"
   ]
  },
  {
   "cell_type": "code",
   "execution_count": 184,
   "id": "379a0723",
   "metadata": {},
   "outputs": [],
   "source": [
    "birth_dates2 = list(map(date_string, filter(is_over_13, birthdays)))"
   ]
  },
  {
   "cell_type": "code",
   "execution_count": 185,
   "id": "e761a0a2",
   "metadata": {},
   "outputs": [
    {
     "data": {
      "text/plain": [
       "['August 09', 'May 16', 'August 15', 'July 04', 'December 30']"
      ]
     },
     "execution_count": 185,
     "metadata": {},
     "output_type": "execute_result"
    }
   ],
   "source": [
    "birth_dates2"
   ]
  },
  {
   "cell_type": "code",
   "execution_count": 186,
   "id": "0a8ad3b6",
   "metadata": {},
   "outputs": [],
   "source": [
    "temperatures = [\n",
    "    37,\n",
    "    0,\n",
    "    25,\n",
    "    100,\n",
    "    13.2,\n",
    "    29.9,\n",
    "    18.6,\n",
    "    32.8\n",
    "]\n",
    "\n",
    "\n",
    "def c_to_f(temp):\n",
    "    \"\"\"Returns Celsius temperature as Fahrenheit\"\"\"\n",
    "    return temp * (9/5) + 32"
   ]
  },
  {
   "cell_type": "code",
   "execution_count": 189,
   "id": "b446649f",
   "metadata": {},
   "outputs": [],
   "source": [
    "good_temps = [c_to_f(temp) for temp in temperatures if temp >= 9 and temp <= 32.6]"
   ]
  },
  {
   "cell_type": "code",
   "execution_count": 190,
   "id": "92e74a63",
   "metadata": {
    "scrolled": true
   },
   "outputs": [
    {
     "data": {
      "text/plain": [
       "[77.0, 55.76, 85.82, 65.48]"
      ]
     },
     "execution_count": 190,
     "metadata": {},
     "output_type": "execute_result"
    }
   ],
   "source": [
    "good_temps"
   ]
  },
  {
   "cell_type": "code",
   "execution_count": 193,
   "id": "d82cfb86",
   "metadata": {},
   "outputs": [],
   "source": [
    "from functools import reduce"
   ]
  },
  {
   "cell_type": "code",
   "execution_count": 194,
   "id": "39fc7624",
   "metadata": {},
   "outputs": [
    {
     "name": "stdout",
     "output_type": "stream",
     "text": [
      "225.30000000000004\n"
     ]
    }
   ],
   "source": [
    "def add_book_price(book1, book2):\n",
    "    return book1 + book2\n",
    "\n",
    "total = reduce(add_book_price, [b.price for b in BOOKS])\n",
    "print(total)"
   ]
  },
  {
   "cell_type": "code",
   "execution_count": 201,
   "id": "4abda0e7",
   "metadata": {},
   "outputs": [],
   "source": [
    "def long_total(a=None, b=None, books=None):\n",
    "    \n",
    "#     handling if nothing passed\n",
    "    if a is None and b is None and books is None:\n",
    "        return None\n",
    "    \n",
    "#     handling normal conditions to pass through the function again\n",
    "    if a is None and b is None and books is not None:\n",
    "        a = books.pop(0)\n",
    "        b = books.pop(0)\n",
    "        return long_total(a, b, books)\n",
    "    \n",
    "#     have an A and books and books is not none\n",
    "# need to get a b from books and pass back into the function\n",
    "    if a is not None and books and books is not None and b is None:\n",
    "        b = books.pop(0)\n",
    "        return long_total(a, b, books)\n",
    "    \n",
    "#     since a and b exist we need to add together and pass back into the function\n",
    "#  above line will accept it next because setting b back to none to take the next item off the list\n",
    "    if a is not None and b is not None and books is not None:\n",
    "        return long_total(a+b, None, books)\n",
    "    \n",
    "#     we have an A and have a B but books is empty\n",
    "# return None for b and books and pass back into the function\n",
    "    if a is not None and b is not None and not books:\n",
    "        return long_total(a+b, None, None)\n",
    "    \n",
    "#     if above function runs, this will be last and give total\n",
    "    if a is not None and b is None and not books or books is None:\n",
    "        return a"
   ]
  },
  {
   "cell_type": "code",
   "execution_count": null,
   "id": "7a0b3eb8",
   "metadata": {},
   "outputs": [],
   "source": [
    "def long_total(a=None, b=None, books=None):\n",
    "    \n",
    "# handling if nothing passed\n",
    "    if a is None and b is None and books is None:\n",
    "        return None\n",
    "    \n",
    "# handling normal conditions to pass through the function again\n",
    "    if a is None and b is None and books is not None:\n",
    "        a = books.pop(0)\n",
    "        b = books.pop(0)\n",
    "        return long_total(a, b, books)\n",
    "    \n",
    "# have an A and books and books is not none\n",
    "# need to get a b from books and pass back into the function\n",
    "    if a is not None and books and books is not None and b is None:\n",
    "        b = books.pop(0)\n",
    "        return long_total(a, b, books)\n",
    "    \n",
    "# since a and b exist we need to add together and pass back into the function\n",
    "# above line will accept it next because setting b back to none to take the next item off the list\n",
    "    if a is not None and b is not None and books is not None:\n",
    "        return long_total(a+b, None, books)\n",
    "    \n",
    "# we have an A and have a B but books is empty\n",
    "# return None for b and books and pass back into the function\n",
    "    if a is not None and b is not None and not books:\n",
    "        return long_total(a+b, None, None)\n",
    "    \n",
    "# if above function runs, this will be last and give total\n",
    "    if a is not None and b is None and not books or books is None:\n",
    "        return a"
   ]
  },
  {
   "cell_type": "code",
   "execution_count": 202,
   "id": "e51d4295",
   "metadata": {},
   "outputs": [
    {
     "name": "stdout",
     "output_type": "stream",
     "text": [
      "225.30000000000004\n"
     ]
    }
   ],
   "source": [
    "print(long_total(None, None, [b.price for b in BOOKS]))"
   ]
  },
  {
   "cell_type": "code",
   "execution_count": 208,
   "id": "0be0095b",
   "metadata": {},
   "outputs": [],
   "source": [
    "def factorial(n):\n",
    "    if n==1:\n",
    "        return 1\n",
    "    else:\n",
    "        print(n)\n",
    "        return n * factorial(n-1)"
   ]
  },
  {
   "cell_type": "code",
   "execution_count": 209,
   "id": "75cefd79",
   "metadata": {
    "scrolled": false
   },
   "outputs": [
    {
     "name": "stdout",
     "output_type": "stream",
     "text": [
      "5\n",
      "4\n",
      "3\n",
      "2\n",
      "120\n"
     ]
    }
   ],
   "source": [
    "print(factorial(5))"
   ]
  },
  {
   "cell_type": "code",
   "execution_count": 210,
   "id": "cde2f32a",
   "metadata": {},
   "outputs": [],
   "source": [
    "from operator import add"
   ]
  },
  {
   "cell_type": "code",
   "execution_count": 211,
   "id": "28ac54e6",
   "metadata": {},
   "outputs": [],
   "source": [
    "prices = [\n",
    "    (6.99, 5),\n",
    "    (2.94, 15),\n",
    "    (156.99, 2),\n",
    "    (99.99, 4),\n",
    "    (1.82, 102)\n",
    "]\n",
    "\n",
    "def product_sales(price_and_units):\n",
    "    return price_and_units[0] * price_and_units[1]"
   ]
  },
  {
   "cell_type": "code",
   "execution_count": 213,
   "id": "84f28ab3",
   "metadata": {},
   "outputs": [
    {
     "data": {
      "text/plain": [
       "[34.95, 44.1, 313.98, 399.96, 185.64000000000001]"
      ]
     },
     "execution_count": 213,
     "metadata": {},
     "output_type": "execute_result"
    }
   ],
   "source": [
    "list(map(product_sales, prices))"
   ]
  },
  {
   "cell_type": "code",
   "execution_count": 219,
   "id": "e1dc55f2",
   "metadata": {},
   "outputs": [
    {
     "data": {
      "text/plain": [
       "978.63"
      ]
     },
     "execution_count": 219,
     "metadata": {},
     "output_type": "execute_result"
    }
   ],
   "source": [
    "reduce(add,map(product_sales, prices))"
   ]
  },
  {
   "cell_type": "code",
   "execution_count": 239,
   "id": "4d4b9786",
   "metadata": {},
   "outputs": [],
   "source": [
    "from operator import add\n",
    "\n",
    "courses = {'count': 3,\n",
    "           'title': 'Django Basics',\n",
    "           'prereqs': [{'count': 3,\n",
    "                     'title': 'Object-Oriented Python',\n",
    "                     'prereqs': [{'count': 1,\n",
    "                               'title': 'Python Collections',\n",
    "                               'prereqs': [{'count':0,\n",
    "                                         'title': 'Python Basics',\n",
    "                                         'prereqs': []}]},\n",
    "                              {'count': 0,\n",
    "                               'title': 'Python Basics',\n",
    "                               'prereqs': []},\n",
    "                              {'count': 0,\n",
    "                               'title': 'Setting Up a Local Python Environment',\n",
    "                               'prereqs': []}]},\n",
    "         {'count': 0,\n",
    "          'title': 'Flask Basics',\n",
    "          'prereqs': []}]}"
   ]
  },
  {
   "cell_type": "code",
   "execution_count": 240,
   "id": "99a3c6f5",
   "metadata": {},
   "outputs": [],
   "source": [
    "def prereqs(data, pres=None):\n",
    "    pres = pres or set()\n",
    "    if data['count'] == 0:\n",
    "        return None\n",
    "    for pr in data['prereqs']:\n",
    "        pres.add(pr['title'])\n",
    "        prereqs(pr, pres)\n",
    "    return pres"
   ]
  },
  {
   "cell_type": "code",
   "execution_count": 241,
   "id": "2bbc7622",
   "metadata": {
    "scrolled": true
   },
   "outputs": [
    {
     "data": {
      "text/plain": [
       "{'Flask Basics',\n",
       " 'Object-Oriented Python',\n",
       " 'Python Basics',\n",
       " 'Python Collections',\n",
       " 'Setting Up a Local Python Environment'}"
      ]
     },
     "execution_count": 241,
     "metadata": {},
     "output_type": "execute_result"
    }
   ],
   "source": [
    "prereqs(courses)"
   ]
  },
  {
   "cell_type": "code",
   "execution_count": 243,
   "id": "c5d04704",
   "metadata": {},
   "outputs": [
    {
     "data": {
      "text/plain": [
       "225.30000000000004"
      ]
     },
     "execution_count": 243,
     "metadata": {},
     "output_type": "execute_result"
    }
   ],
   "source": [
    "reduce(lambda x, y: x + y, [b.price for b in BOOKS])"
   ]
  },
  {
   "cell_type": "code",
   "execution_count": 245,
   "id": "5ccdb812",
   "metadata": {
    "scrolled": true
   },
   "outputs": [
    {
     "data": {
      "text/plain": [
       "12"
      ]
     },
     "execution_count": 245,
     "metadata": {},
     "output_type": "execute_result"
    }
   ],
   "source": [
    "long_books = filter(lambda book: book.number_of_pages >= 600, BOOKS)\n",
    "len(list(long_books))"
   ]
  },
  {
   "cell_type": "code",
   "execution_count": 246,
   "id": "dc1a7adc",
   "metadata": {},
   "outputs": [],
   "source": [
    "from functools import reduce\n",
    "\n",
    "strings = [\n",
    "    \"Do not take life too seriously. You will never get out of it alive.\",\n",
    "    \"My fake plants died because I did not pretend to water them.\",\n",
    "    \"A day without sunshine is like, you know, night.\",\n",
    "    \"Get your facts first, then you can distort them as you please.\",\n",
    "    \"My grandmother started walking five miles a day when she was sixty. She's ninety-seven know and we don't know where she is.\",\n",
    "    \"Life is hard. After all, it kills you.\",\n",
    "    \"All my life, I always wanted to be somebody. Now I see that I should have been more specific.\",\n",
    "    \"Everyone's like, 'overnight sensation.' It's not overnight. It's years of hard work.\",\n",
    "]"
   ]
  },
  {
   "cell_type": "code",
   "execution_count": 249,
   "id": "9d3aaba7",
   "metadata": {},
   "outputs": [],
   "source": [
    "longest = reduce(lambda string1, string2: string1 > string2, [len(string) for string in strings] )"
   ]
  },
  {
   "cell_type": "code",
   "execution_count": null,
   "id": "345732b2",
   "metadata": {
    "collapsed": true
   },
   "outputs": [],
   "source": []
  }
 ],
 "metadata": {
  "kernelspec": {
   "display_name": "Python 3 (ipykernel)",
   "language": "python",
   "name": "python3"
  },
  "language_info": {
   "codemirror_mode": {
    "name": "ipython",
    "version": 3
   },
   "file_extension": ".py",
   "mimetype": "text/x-python",
   "name": "python",
   "nbconvert_exporter": "python",
   "pygments_lexer": "ipython3",
   "version": "3.8.8"
  }
 },
 "nbformat": 4,
 "nbformat_minor": 5
}
