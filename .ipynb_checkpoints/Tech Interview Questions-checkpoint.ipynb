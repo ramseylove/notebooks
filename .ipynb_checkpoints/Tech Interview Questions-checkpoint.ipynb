{
 "cells": [
  {
   "cell_type": "markdown",
   "id": "6681b300",
   "metadata": {},
   "source": [
    "## sorted squares"
   ]
  },
  {
   "cell_type": "markdown",
   "id": "941dc968",
   "metadata": {},
   "source": [
    "def sortedSquaredArray(array):\n",
    "\tsq_array = [0 for _ in array]\n",
    "\tsmallerValueIdx = 0\n",
    "\tlargerValueIdx = len(array) - 1\n",
    "\t\n",
    "\tfor idx in reversed(range(len(array))):\n",
    "\t\tsmallerValue = array[smallerValueIdx]\n",
    "\t\tlargerValue = array[largerValueIdx]\n",
    "\t\tprint(idx)\n",
    "\t\tif abs(smallerValue) > abs(largerValue):\n",
    "\t\t\tsq_array[idx] = smallerValue * smallerValue\n",
    "\t\t\tsmallerValueIdx += 1\n",
    "\t\telse: \n",
    "\t\t\tsq_array[idx] = largerValue * largerValue\n",
    "\t\t\tlargerValueIdx -= 1\n",
    "\t\t\t\n",
    "\treturn sq_array"
   ]
  },
  {
   "cell_type": "code",
   "execution_count": 7,
   "id": "36daf199",
   "metadata": {},
   "outputs": [
    {
     "name": "stdout",
     "output_type": "stream",
     "text": [
      "4\n",
      "3\n",
      "2\n",
      "1\n",
      "0\n"
     ]
    },
    {
     "data": {
      "text/plain": [
       "[1, 4, 9, 16, 25]"
      ]
     },
     "execution_count": 7,
     "metadata": {},
     "output_type": "execute_result"
    }
   ],
   "source": [
    "array = [-5, -4, -3, -2, -1]\n",
    "sortedSquaredArray(array)"
   ]
  },
  {
   "cell_type": "code",
   "execution_count": 5,
   "id": "6fc64aa6",
   "metadata": {},
   "outputs": [
    {
     "data": {
      "text/plain": [
       "[0, 0, 0, 0, 0]"
      ]
     },
     "execution_count": 5,
     "metadata": {},
     "output_type": "execute_result"
    }
   ],
   "source": [
    "sq_array = [0 for _ in array]\n",
    "sq_array"
   ]
  },
  {
   "cell_type": "markdown",
   "id": "b8503b01",
   "metadata": {},
   "source": [
    "## Tournment Winner"
   ]
  },
  {
   "cell_type": "code",
   "execution_count": 8,
   "id": "5eb62367",
   "metadata": {},
   "outputs": [],
   "source": [
    "# sample input\n",
    "competitions = [\n",
    "\t['html', 'C#'],\n",
    "\t['C#', 'Python'],\n",
    "\t['Python', 'HTML']\n",
    "]\n",
    "results = [0, 0, 1]"
   ]
  },
  {
   "cell_type": "code",
   "execution_count": 9,
   "id": "70fcfaad",
   "metadata": {},
   "outputs": [],
   "source": [
    "# my answer\n",
    "def determineWinner(game, win):\n",
    "\tif win == 1:\n",
    "\t\twinner = game[0]\n",
    "\t\tloser = game[1]\n",
    "\telse:\n",
    "\t\twinner = game[1]\n",
    "\t\tloser = game[0]\n",
    "\t\t\n",
    "\treturn [winner, loser]\n",
    "\n",
    "\t\n",
    "def tournamentWinner(competitions, results):\n",
    "\tcurrent_high_scorer = ''\n",
    "\tscore = {current_high_scorer: 0}\n",
    "\t\n",
    "\tfor idx, game in enumerate(competitions):\n",
    "\t\t\n",
    "\t\t[winner, loser] = determineWinner(game, results[idx])\n",
    "\t\t\n",
    "\t\tif current_high_scorer == '':\n",
    "\t\t\tcurrent_high_scorer = winner\n",
    "\n",
    "\t\tif winner in score:\n",
    "\t\t\tscore[winner] = (score[winner] + 3)\n",
    "\t\t\tif score[winner] > score[current_high_scorer]:\n",
    "\t\t\t\tcurrent_high_scorer = winner\n",
    "\t\telse:\n",
    "\t\t\tscore[winner] = 3\n",
    "\t\t\t\n",
    "\t\t\t\t\n",
    "\treturn current_high_scorer"
   ]
  },
  {
   "cell_type": "code",
   "execution_count": 10,
   "id": "d9d57a3c",
   "metadata": {},
   "outputs": [
    {
     "data": {
      "text/plain": [
       "'Python'"
      ]
     },
     "execution_count": 10,
     "metadata": {},
     "output_type": "execute_result"
    }
   ],
   "source": [
    "tournamentWinner(competitions, results)"
   ]
  },
  {
   "cell_type": "code",
   "execution_count": null,
   "id": "ef7d68c3",
   "metadata": {},
   "outputs": [],
   "source": [
    "# answer\n",
    "# O(n) time | O(k) space where n is the number of competitions and k is the number of teams\n",
    "def tournamentWinner(competitions, results):\n",
    "\tcurrent_high_scorer = ''\n",
    "\tscore = {current_high_scorer: 0}\n",
    "    \n",
    "    for idx, competition in enumerate(competitions):\n",
    "        result = results[idx]\n",
    "        homeTeam, awayTeam = competition\n",
    "        \n",
    "        winningTeam = homeTeam if result == 1 else awayteam\n",
    "        \n",
    "        updateScores(winningTeam, 3, scores)\n",
    "        \n",
    "        if scores[winningTeam] > scores[current_high_scorer]:\n",
    "            current_high_scorer = winningTeam\n",
    "    \n",
    "    return current_high_scorer\n",
    "\n",
    "        \n",
    "def updateScores(team, points, scores):\n",
    "    if team not in scores:\n",
    "        scores[team] = 0\n",
    "        \n",
    "    scores[team] += points"
   ]
  },
  {
   "cell_type": "markdown",
   "id": "4c55c0cd",
   "metadata": {},
   "source": [
    "# Non-constructable Change\n",
    "O(nlogn) -> sorting = nlogn , for loop + n | o(l) space"
   ]
  },
  {
   "cell_type": "markdown",
   "id": "9dca09e6",
   "metadata": {},
   "source": [
    "With sort, we know that if any coin is larger than the sum of previous coins + 1, the minimum amount of change possible to create is (previous sum of coins) + 1"
   ]
  },
  {
   "cell_type": "code",
   "execution_count": 11,
   "id": "ccf57fa8",
   "metadata": {},
   "outputs": [],
   "source": [
    "coins = [5,7,1,1,2,3,22] # the value of 22 is greater than the sum of all previous coins 19\n",
    "# largest change we cant create is 19 + 1 = 20"
   ]
  },
  {
   "cell_type": "code",
   "execution_count": 14,
   "id": "a7832f1c",
   "metadata": {},
   "outputs": [
    {
     "data": {
      "text/plain": [
       "[1, 1, 2, 3, 5, 7, 22]"
      ]
     },
     "execution_count": 14,
     "metadata": {},
     "output_type": "execute_result"
    }
   ],
   "source": [
    "coins.sort()\n",
    "coins"
   ]
  },
  {
   "cell_type": "code",
   "execution_count": null,
   "id": "7911565f",
   "metadata": {},
   "outputs": [],
   "source": [
    "def nonConstructibleChange(coins):\n",
    "    coins.sort()\n",
    "\tminimum_change = 0\n",
    "\t\n",
    "\tfor coin in coins:\n",
    "\t\tif coin > minimum_change + 1:\n",
    "\t\t\treturn minimum_change + 1\n",
    "\t\t\n",
    "\t\tminimum_change += coin # 1, 3, 7\n",
    "    return minimum_change + 1"
   ]
  },
  {
   "cell_type": "markdown",
   "id": "50ae8a5a",
   "metadata": {},
   "source": [
    "# Class Photos"
   ]
  },
  {
   "cell_type": "markdown",
   "id": "f1d50b49",
   "metadata": {},
   "source": [
    "O(nlog(n)) time | 0(1) space - where n is the number of students"
   ]
  },
  {
   "cell_type": "code",
   "execution_count": 16,
   "id": "9d3f9da3",
   "metadata": {},
   "outputs": [],
   "source": [
    "data = {\n",
    "  \"blueShirtHeights\": [6, 9, 2, 4, 5],\n",
    "  \"redShirtHeights\": [5, 8, 1, 3, 4]\n",
    "}"
   ]
  },
  {
   "cell_type": "code",
   "execution_count": 17,
   "id": "4874b6d5",
   "metadata": {},
   "outputs": [],
   "source": [
    "def classPhotos(redShirtHeights, blueShirtHeights):\n",
    "    redShirtHeights.sort(reverse=True)\n",
    "    blueShirtHeights.sort(reverse=True)\n",
    "    \n",
    "    shirtColorInFirstRow = \"RED\" if redShirtHeights[0] < blueShirtHeights[0] else \"BLUE\"\n",
    "    for idx in range(len(redShirtHeights)):\n",
    "        redShirtHeight = redShirtHeights[idx]\n",
    "        blueShirtHeight = blueShirtHeights[idx]\n",
    "        \n",
    "        if shirtColorInFirstRow == \"RED\":\n",
    "            if redShirtHeight >= blueShirtHeight:\n",
    "                return False\n",
    "        else:\n",
    "            if blueShirtHeight >= redShirtHeight:\n",
    "                return False\n",
    "            \n",
    "    return True"
   ]
  },
  {
   "cell_type": "code",
   "execution_count": null,
   "id": "7e1b44c9",
   "metadata": {},
   "outputs": [],
   "source": []
  },
  {
   "cell_type": "code",
   "execution_count": null,
   "id": "1abf3759",
   "metadata": {},
   "outputs": [],
   "source": []
  }
 ],
 "metadata": {
  "kernelspec": {
   "display_name": "Python 3 (ipykernel)",
   "language": "python",
   "name": "python3"
  },
  "language_info": {
   "codemirror_mode": {
    "name": "ipython",
    "version": 3
   },
   "file_extension": ".py",
   "mimetype": "text/x-python",
   "name": "python",
   "nbconvert_exporter": "python",
   "pygments_lexer": "ipython3",
   "version": "3.8.8"
  }
 },
 "nbformat": 4,
 "nbformat_minor": 5
}
