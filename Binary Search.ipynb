{
 "cells": [
  {
   "cell_type": "markdown",
   "id": "6c7eb501",
   "metadata": {},
   "source": [
    "# binary search"
   ]
  },
  {
   "cell_type": "markdown",
   "id": "4c6f4fb0",
   "metadata": {},
   "source": [
    "* list needs to be sorted \n",
    "* splitting array in 2 each time\n",
    "O(log(n)) time | 0(log(n)) space "
   ]
  },
  {
   "cell_type": "code",
   "execution_count": 51,
   "id": "f32852ab",
   "metadata": {},
   "outputs": [],
   "source": [
    "arr = [0 , 1, 21, 33, 45, 45, 61, 71, 72, 73]"
   ]
  },
  {
   "cell_type": "code",
   "execution_count": null,
   "id": "37d5070b",
   "metadata": {},
   "outputs": [],
   "source": [
    "m_idx = len(arr) - 1 / 2 # or (0 + 9)\n",
    "m_idx"
   ]
  },
  {
   "cell_type": "code",
   "execution_count": null,
   "id": "98fb14d2",
   "metadata": {},
   "outputs": [],
   "source": [
    "def binary_search_helper(array, target, left, right):\n",
    "    if left > right:\n",
    "        return -1\n",
    "    middle = (left + right) // 2\n",
    "    potentialMatch = array[middle]\n",
    "    if target == potentialMatch:\n",
    "        return middle\n",
    "    elif target < potentialMatch:\n",
    "        return binary_search_helper(array, target, left, middle - 1)\n",
    "    else:\n",
    "        return binary_search_helper(array, target, middle + 1, right)"
   ]
  },
  {
   "cell_type": "code",
   "execution_count": null,
   "id": "ecfe6827",
   "metadata": {},
   "outputs": [],
   "source": [
    "def binary_search(array, target):\n",
    "    return binary_search_helper(array, target, 0, len(array) -1)"
   ]
  },
  {
   "cell_type": "code",
   "execution_count": null,
   "id": "c4e8a7f8",
   "metadata": {
    "scrolled": true
   },
   "outputs": [],
   "source": [
    "binary_search(arr, 33)"
   ]
  },
  {
   "cell_type": "code",
   "execution_count": null,
   "id": "fb59869d",
   "metadata": {},
   "outputs": [],
   "source": [
    "(len(arr) - 1) // 2"
   ]
  },
  {
   "cell_type": "code",
   "execution_count": 63,
   "id": "47e47516",
   "metadata": {},
   "outputs": [],
   "source": [
    "def binarySearch(array, target):\n",
    "    return binary_search_helper(array, target, 0, len(array)-1)\n",
    "\n",
    "def binary_search_helper(array, target, left, right):\n",
    "    # define base case doesn't fine target\n",
    "    if left > right:\n",
    "        return -1\n",
    "\n",
    "    midx = (left + right) // 2 # round down of sum of left and right\n",
    "    # store possible match\n",
    "    possible_match = array[midx]\n",
    "    # secondary base winning case return index where found\n",
    "    if target == possible_match:\n",
    "\n",
    "        return midx\n",
    "    # define if target is less than midx possible match\n",
    "    elif target < possible_match:\n",
    "        # Make right edge index of middle -1 and Continue\n",
    "        return binary_search_helper(array, target, left, midx - 1) \n",
    "    else:\n",
    "        # make left edge index of middle +1 and Continue\n",
    "        return binary_search_helper(array, target, midx + 1, right) "
   ]
  },
  {
   "cell_type": "code",
   "execution_count": 64,
   "id": "028e38c1",
   "metadata": {},
   "outputs": [
    {
     "data": {
      "text/plain": [
       "3"
      ]
     },
     "execution_count": 64,
     "metadata": {},
     "output_type": "execute_result"
    }
   ],
   "source": [
    "binarySearch(arr, 33)"
   ]
  },
  {
   "cell_type": "code",
   "execution_count": 61,
   "id": "20fa45ae",
   "metadata": {},
   "outputs": [],
   "source": [
    "# using while loop will change space O(1) vs O(log(n))\n",
    "def binarySearchWhile(array, target):\n",
    "    return binary_search_helper(array, target, 0, len(array)-1)\n",
    "\n",
    "def binary_search_helper(array, target, left, right):\n",
    "    # if left is greater than right, means we missed the target\n",
    "    while left <= right:\n",
    "\n",
    "        midx = (left + right) // 2 # round down of sum of left and right\n",
    "        # store possible match\n",
    "        possible_match = array[midx]\n",
    "        # secondary base winning case return index where found\n",
    "        if target == possible_match:\n",
    "\n",
    "            return midx\n",
    "        # define if target is less than midx possible match\n",
    "        elif target < possible_match:\n",
    "            # Make right edge index of middle -1 and Continue\n",
    "            right = midx - 1 \n",
    "        else:\n",
    "            # make left edge index of middle +1 and Continue\n",
    "            left = midx + 1\n",
    "            \n",
    "    return -1"
   ]
  },
  {
   "cell_type": "code",
   "execution_count": 62,
   "id": "52571de0",
   "metadata": {},
   "outputs": [
    {
     "data": {
      "text/plain": [
       "3"
      ]
     },
     "execution_count": 62,
     "metadata": {},
     "output_type": "execute_result"
    }
   ],
   "source": [
    "binarySearchWhile(arr, 33)"
   ]
  }
 ],
 "metadata": {
  "kernelspec": {
   "display_name": "Python 3 (ipykernel)",
   "language": "python",
   "name": "python3"
  },
  "language_info": {
   "codemirror_mode": {
    "name": "ipython",
    "version": 3
   },
   "file_extension": ".py",
   "mimetype": "text/x-python",
   "name": "python",
   "nbconvert_exporter": "python",
   "pygments_lexer": "ipython3",
   "version": "3.8.8"
  }
 },
 "nbformat": 4,
 "nbformat_minor": 5
}
