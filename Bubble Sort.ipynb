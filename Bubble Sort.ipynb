{
 "cells": [
  {
   "cell_type": "markdown",
   "id": "231f125a",
   "metadata": {},
   "source": [
    "# Bubble Sort"
   ]
  },
  {
   "cell_type": "markdown",
   "id": "18da002f",
   "metadata": {},
   "source": [
    "BEST\n",
    "Time = O(n) - where n is the length of of the input array\n",
    "space = O(1) \n",
    "Average\n",
    "Time = O(n^2)\n",
    "space = O(1)"
   ]
  },
  {
   "cell_type": "markdown",
   "id": "e6ad0264",
   "metadata": {},
   "source": [
    "* define is_sorted to track whether the array is sorted or not\n",
    "* limiter is used to limit the length of array being compared once a number has been placed at the end of the array\n",
    "* assume that is_sorted is True except for when it is not"
   ]
  },
  {
   "cell_type": "code",
   "execution_count": 6,
   "id": "2e6fc760",
   "metadata": {},
   "outputs": [],
   "source": [
    "def bubbleSort(array):\n",
    "    is_sorted = False\n",
    "    limiter = 1\n",
    "    \n",
    "    while not is_sorted:\n",
    "        is_sorted = True\n",
    "        for i in range(len(array) - limiter):\n",
    "            if array[i] > array[i + 1]:\n",
    "                swap(i, i+1, array)\n",
    "                is_sorted = False\n",
    "                print(array) # remove to shorten output\n",
    "        limiter += 1\n",
    "    return array\n",
    "            \n",
    "def swap(i, j, array):\n",
    "    array[i], array[j] = array[j], array[i]"
   ]
  },
  {
   "cell_type": "code",
   "execution_count": 7,
   "id": "66d5d6b6",
   "metadata": {},
   "outputs": [],
   "source": [
    "array = [8,5,2,9,5,6,3] # using worst algo for this array"
   ]
  },
  {
   "cell_type": "code",
   "execution_count": 8,
   "id": "eb559b17",
   "metadata": {},
   "outputs": [
    {
     "name": "stdout",
     "output_type": "stream",
     "text": [
      "[5, 8, 2, 9, 5, 6, 3]\n",
      "[5, 2, 8, 9, 5, 6, 3]\n",
      "[5, 2, 8, 5, 9, 6, 3]\n",
      "[5, 2, 8, 5, 6, 9, 3]\n",
      "[5, 2, 8, 5, 6, 3, 9]\n",
      "[2, 5, 8, 5, 6, 3, 9]\n",
      "[2, 5, 5, 8, 6, 3, 9]\n",
      "[2, 5, 5, 6, 8, 3, 9]\n",
      "[2, 5, 5, 6, 3, 8, 9]\n",
      "[2, 5, 5, 3, 6, 8, 9]\n",
      "[2, 5, 3, 5, 6, 8, 9]\n",
      "[2, 3, 5, 5, 6, 8, 9]\n"
     ]
    },
    {
     "data": {
      "text/plain": [
       "[2, 3, 5, 5, 6, 8, 9]"
      ]
     },
     "execution_count": 8,
     "metadata": {},
     "output_type": "execute_result"
    }
   ],
   "source": [
    "bubbleSort(array)"
   ]
  },
  {
   "cell_type": "code",
   "execution_count": 20,
   "id": "1e392268",
   "metadata": {},
   "outputs": [
    {
     "data": {
      "text/plain": [
       "[2, 3, 5, 5, 6, 8, 9]"
      ]
     },
     "execution_count": 20,
     "metadata": {},
     "output_type": "execute_result"
    }
   ],
   "source": [
    "array.sort() # with the array sorted, algo is at optimal big O time\n",
    "bubbleSort(array)"
   ]
  },
  {
   "cell_type": "code",
   "execution_count": 14,
   "id": "2381ba27",
   "metadata": {},
   "outputs": [],
   "source": [
    "left = 123\n",
    "right = 456\n",
    "\n",
    "left, right = right, left"
   ]
  },
  {
   "cell_type": "code",
   "execution_count": 18,
   "id": "516a8a40",
   "metadata": {},
   "outputs": [
    {
     "name": "stdout",
     "output_type": "stream",
     "text": [
      "456\n",
      "123\n"
     ]
    }
   ],
   "source": [
    "print(left) # 456\n",
    "print(right) # 123"
   ]
  }
 ],
 "metadata": {
  "kernelspec": {
   "display_name": "Python 3 (ipykernel)",
   "language": "python",
   "name": "python3"
  },
  "language_info": {
   "codemirror_mode": {
    "name": "ipython",
    "version": 3
   },
   "file_extension": ".py",
   "mimetype": "text/x-python",
   "name": "python",
   "nbconvert_exporter": "python",
   "pygments_lexer": "ipython3",
   "version": "3.8.6"
  }
 },
 "nbformat": 4,
 "nbformat_minor": 5
}
