{
 "cells": [
  {
   "cell_type": "markdown",
   "id": "319525c9",
   "metadata": {},
   "source": [
    "# Depth first search\n",
    "O(v + e) time | O(v) space - where v is the number of vertices of the input graph and e is the number of edges of the input graph"
   ]
  },
  {
   "cell_type": "markdown",
   "id": "95f9329b",
   "metadata": {},
   "source": [
    "* Traverse a Node to return an array. \n",
    "* Explore each node all the way down before \n",
    "* for every node add to array, every child call the function recursively"
   ]
  },
  {
   "cell_type": "code",
   "execution_count": null,
   "id": "2b978859",
   "metadata": {},
   "outputs": [],
   "source": [
    "class Node:\n",
    "    def __init__(self, name):\n",
    "        self.children = []\n",
    "        self.name = name\n",
    "\n",
    "    def addChild(self, name):\n",
    "        self.children.append(Node(name))\n",
    "        return self\n",
    "\n",
    "    def depthFirstSearch(self, array):\n",
    "        array.append(self.name) # A,\n",
    "        for child in self.children: # B,\n",
    "            child.depthFirstSearch(array)\n",
    "        return array"
   ]
  },
  {
   "cell_type": "code",
   "execution_count": null,
   "id": "0b40c76d",
   "metadata": {},
   "outputs": [],
   "source": [
    "# sample data\n",
    "data = {\n",
    "  \"graph\": {\n",
    "    \"nodes\": [\n",
    "      {\"children\": [\"B\", \"C\", \"D\"], \"id\": \"A\", \"value\": \"A\"},\n",
    "      {\"children\": [\"E\", \"F\"], \"id\": \"B\", \"value\": \"B\"},\n",
    "      {\"children\": [], \"id\": \"C\", \"value\": \"C\"},\n",
    "      {\"children\": [\"G\", \"H\"], \"id\": \"D\", \"value\": \"D\"},\n",
    "      {\"children\": [], \"id\": \"E\", \"value\": \"E\"},\n",
    "      {\"children\": [\"I\", \"J\"], \"id\": \"F\", \"value\": \"F\"},\n",
    "      {\"children\": [\"K\"], \"id\": \"G\", \"value\": \"G\"},\n",
    "      {\"children\": [], \"id\": \"H\", \"value\": \"H\"},\n",
    "      {\"children\": [], \"id\": \"I\", \"value\": \"I\"},\n",
    "      {\"children\": [], \"id\": \"J\", \"value\": \"J\"},\n",
    "      {\"children\": [], \"id\": \"K\", \"value\": \"K\"}\n",
    "    ],\n",
    "    \"startNode\": \"A\"\n",
    "  }\n",
    "}"
   ]
  },
  {
   "cell_type": "code",
   "execution_count": null,
   "id": "26853610",
   "metadata": {},
   "outputs": [],
   "source": [
    "class TestProgram(unittest.TestCase):\n",
    "    def test_case_1(self):\n",
    "        graph = program.Node(\"A\")\n",
    "        graph.addChild(\"B\").addChild(\"C\").addChild(\"D\")\n",
    "        graph.children[0].addChild(\"E\").addChild(\"F\")\n",
    "        graph.children[2].addChild(\"G\").addChild(\"H\")\n",
    "        graph.children[0].children[1].addChild(\"I\").addChild(\"J\")\n",
    "        graph.children[2].children[0].addChild(\"K\")\n",
    "        self.assertEqual(graph.depthFirstSearch([]), [\"A\", \"B\", \"E\", \"F\", \"I\", \"J\", \"C\", \"D\", \"G\", \"K\", \"H\"])"
   ]
  }
 ],
 "metadata": {
  "kernelspec": {
   "display_name": "Python 3 (ipykernel)",
   "language": "python",
   "name": "python3"
  },
  "language_info": {
   "codemirror_mode": {
    "name": "ipython",
    "version": 3
   },
   "file_extension": ".py",
   "mimetype": "text/x-python",
   "name": "python",
   "nbconvert_exporter": "python",
   "pygments_lexer": "ipython3",
   "version": "3.8.8"
  }
 },
 "nbformat": 4,
 "nbformat_minor": 5
}
