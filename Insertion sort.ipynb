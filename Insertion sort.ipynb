{
 "cells": [
  {
   "cell_type": "markdown",
   "id": "3b6f0625",
   "metadata": {},
   "source": [
    "# Insertion Sort"
   ]
  },
  {
   "cell_type": "markdown",
   "id": "cb7a79e6",
   "metadata": {},
   "source": [
    "Not the most performant of sorting but simple\n",
    "Takes in array of integers\n",
    "Best: O(n) time | O(1) space\n",
    "Average: O(n^2) time | O (1) space"
   ]
  },
  {
   "cell_type": "code",
   "execution_count": 3,
   "id": "bc6bc12d",
   "metadata": {},
   "outputs": [],
   "source": [
    "array = [8, 5, 2, 9, 5, 6, 3]"
   ]
  },
  {
   "cell_type": "code",
   "execution_count": 2,
   "id": "e018d11d",
   "metadata": {},
   "outputs": [],
   "source": [
    "def insertionSort(array):\n",
    "    for i in range(1, len(array)):\n",
    "        j = i\n",
    "        while j > 0 and array[j] < array[j - 1]: # 8 < 9\n",
    "    # j is tracking the temporary sorted list at beginning of array\n",
    "            swap(j, j - 1, array)\n",
    "    # 5, 8, 2, 9, 5, 6, 3\n",
    "            j -= 1\n",
    "        # loop around the while loop until j hits 0, then back into the for loop\n",
    "        # and next element is larger than previous ie 8,9\n",
    "    return array\n",
    "\n",
    "def swap(i, j, array):\n",
    "    array[i], array[j] = array[j], array[i]"
   ]
  },
  {
   "cell_type": "markdown",
   "id": "c14ad953",
   "metadata": {},
   "source": [
    "[8, 5, 2, 9, 5, 6, 3]\n",
    "1. 5 is less than 8, swap \n",
    " \n",
    "[5, 8, 2, 9, 5, 6, 3]\n",
    "2. 2 is less than 8, swap, 2 is less than 5, swap\n",
    "\n",
    "[2, 5, 8, 9, 5, 6, 3]\n",
    "3. 9 is not less than 8\n",
    "\n",
    "[2, 5, 8, 9, 5, 6, 3]\n",
    "4. 5 is less than 9, swap, 5 is less than 8,swap 5 is not less than 5\n",
    "\n",
    "[2, 5, 6, 8, 9, 5, 3]\n",
    "5. 6 is less than 9, swap, 6 is less than 8,swap, 6 is not less than 5\n",
    "\n",
    "[2, 3, 5, 6, 8, 9, 5]\n",
    "6. 3 is less than 9, swap, 3 is less than 8, swap, 3 is less than 6, swap, three is less than 5, swap, three is less than 5 swap, 3 is not less than 2\n"
   ]
  },
  {
   "cell_type": "code",
   "execution_count": 4,
   "id": "6a0b3ea9",
   "metadata": {},
   "outputs": [],
   "source": [
    "s_array = [8, 5, 2, 9, 5, 6, 3]"
   ]
  },
  {
   "cell_type": "code",
   "execution_count": 8,
   "id": "fa5137d1",
   "metadata": {},
   "outputs": [],
   "source": [
    "def swap(i, j, array):\n",
    "    array[i], array[j] = array[j], array[i]\n",
    "    return(array)"
   ]
  },
  {
   "cell_type": "code",
   "execution_count": 9,
   "id": "fd50078f",
   "metadata": {},
   "outputs": [
    {
     "data": {
      "text/plain": [
       "[8, 2, 5, 9, 5, 6, 3]"
      ]
     },
     "execution_count": 9,
     "metadata": {},
     "output_type": "execute_result"
    }
   ],
   "source": [
    "swap(1, 2, s_array)"
   ]
  },
  {
   "cell_type": "code",
   "execution_count": null,
   "id": "6705fca2",
   "metadata": {},
   "outputs": [],
   "source": []
  }
 ],
 "metadata": {
  "kernelspec": {
   "display_name": "Python 3 (ipykernel)",
   "language": "python",
   "name": "python3"
  },
  "language_info": {
   "codemirror_mode": {
    "name": "ipython",
    "version": 3
   },
   "file_extension": ".py",
   "mimetype": "text/x-python",
   "name": "python",
   "nbconvert_exporter": "python",
   "pygments_lexer": "ipython3",
   "version": "3.8.6"
  }
 },
 "nbformat": 4,
 "nbformat_minor": 5
}
