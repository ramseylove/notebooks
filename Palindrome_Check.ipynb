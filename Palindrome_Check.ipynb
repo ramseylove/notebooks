{
 "cells": [
  {
   "cell_type": "markdown",
   "id": "7956bca6",
   "metadata": {},
   "source": [
    "# Palindrome Check"
   ]
  },
  {
   "cell_type": "markdown",
   "id": "63f0884c",
   "metadata": {},
   "source": [
    "A palindrome is defined as a string that's written the same forward and backward. Sinlge-character strings are palindromes"
   ]
  },
  {
   "cell_type": "code",
   "execution_count": 44,
   "id": "91fc9087",
   "metadata": {},
   "outputs": [],
   "source": [
    "def isPalindrome(string):\n",
    "    rev = list(string)\n",
    "    rev.reverse()\n",
    "    rev = ''.join(rev)\n",
    "    \n",
    "    if rev == string or len(string) == 1:\n",
    "        return True\n",
    "    \n",
    "    return False"
   ]
  },
  {
   "cell_type": "code",
   "execution_count": 45,
   "id": "a611b024",
   "metadata": {
    "scrolled": true
   },
   "outputs": [
    {
     "data": {
      "text/plain": [
       "False"
      ]
     },
     "execution_count": 45,
     "metadata": {},
     "output_type": "execute_result"
    }
   ],
   "source": [
    "isPalindrome('ab')"
   ]
  },
  {
   "cell_type": "markdown",
   "id": "72eed30c",
   "metadata": {},
   "source": [
    "## Tracking with two indicies"
   ]
  },
  {
   "cell_type": "code",
   "execution_count": 46,
   "id": "231212d1",
   "metadata": {},
   "outputs": [],
   "source": [
    "def is_palindrome(string):\n",
    "    left_idx = 0\n",
    "    rightIdx = len(string) - 1\n",
    "    while leftIdx < rightIdx:\n",
    "        if string[leftIdx] != string[rightIdx]:\n",
    "            return False\n",
    "        leftIdx +=1\n",
    "        rightIdx -= 1\n",
    "    return True"
   ]
  },
  {
   "cell_type": "markdown",
   "id": "715db208",
   "metadata": {},
   "source": [
    "## Using reverse range to reverse the string"
   ]
  },
  {
   "cell_type": "code",
   "execution_count": 51,
   "id": "c44b8518",
   "metadata": {},
   "outputs": [],
   "source": [
    "def is_palindrome2(string):\n",
    "    reversedChars = []\n",
    "    for i in reversed(range(len(string))):\n",
    "        print(string[i])\n",
    "        reversedChars.append(string[i])\n",
    "    return string == ''.join(reversedChars)"
   ]
  },
  {
   "cell_type": "code",
   "execution_count": 52,
   "id": "e2ac8b06",
   "metadata": {},
   "outputs": [
    {
     "name": "stdout",
     "output_type": "stream",
     "text": [
      "p\n",
      "o\n",
      "o\n",
      "p\n"
     ]
    },
    {
     "data": {
      "text/plain": [
       "True"
      ]
     },
     "execution_count": 52,
     "metadata": {},
     "output_type": "execute_result"
    }
   ],
   "source": [
    "is_palindrome2('poop')"
   ]
  },
  {
   "cell_type": "code",
   "execution_count": 34,
   "id": "b605f344",
   "metadata": {},
   "outputs": [
    {
     "data": {
      "text/plain": [
       "'gnirts'"
      ]
     },
     "execution_count": 34,
     "metadata": {},
     "output_type": "execute_result"
    }
   ],
   "source": [
    "str = 'string'\n",
    "\n",
    "lst = list(str)\n",
    "lst.reverse()\n",
    "rev = ''.join(lst)\n",
    "rev"
   ]
  }
 ],
 "metadata": {
  "kernelspec": {
   "display_name": "Python 3 (ipykernel)",
   "language": "python",
   "name": "python3"
  },
  "language_info": {
   "codemirror_mode": {
    "name": "ipython",
    "version": 3
   },
   "file_extension": ".py",
   "mimetype": "text/x-python",
   "name": "python",
   "nbconvert_exporter": "python",
   "pygments_lexer": "ipython3",
   "version": "3.8.6"
  }
 },
 "nbformat": 4,
 "nbformat_minor": 5
}
