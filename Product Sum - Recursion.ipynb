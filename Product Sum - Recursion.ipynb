{
 "cells": [
  {
   "cell_type": "markdown",
   "id": "70adb4b6",
   "metadata": {},
   "source": [
    "# Product Sum "
   ]
  },
  {
   "cell_type": "markdown",
   "id": "7faf8fb7",
   "metadata": {},
   "source": [
    "Special arrays are summed themselves and then multiplied by their level of depth\n",
    "first array is 1, second array is 2 etc\n",
    "time = O(n) iterating through each element of the array\n",
    "space = O(d) max depth of array"
   ]
  },
  {
   "cell_type": "markdown",
   "id": "2c0499a4",
   "metadata": {},
   "source": [
    "iteration of arrays to sum"
   ]
  },
  {
   "cell_type": "code",
   "execution_count": 12,
   "id": "b6f332f3",
   "metadata": {},
   "outputs": [],
   "source": [
    "s_array = [5, 2, [7, -1], 3, [6, [-13, 8], 4]]"
   ]
  },
  {
   "cell_type": "markdown",
   "id": "27ac845d",
   "metadata": {},
   "source": [
    " "
   ]
  },
  {
   "cell_type": "code",
   "execution_count": 2,
   "id": "e801fbd2",
   "metadata": {},
   "outputs": [],
   "source": [
    "level_1 = [5, 2, 3]\n",
    "level_2 = [7, 1, 6, 4]\n",
    "level_3 = [-13, 8]"
   ]
  },
  {
   "cell_type": "code",
   "execution_count": 13,
   "id": "df4b9d3b",
   "metadata": {},
   "outputs": [],
   "source": [
    "def product_sum(array, multiplier = 1):\n",
    "    sum = 0\n",
    "    for element in array:\n",
    "        if type(element) is list:\n",
    "            sum += product_sum(element, multiplier + 1)\n",
    "        else:\n",
    "            sum += element\n",
    "            \n",
    "    return sum * multiplier\n",
    "    \n",
    "        "
   ]
  },
  {
   "cell_type": "code",
   "execution_count": 14,
   "id": "b26cdbf2",
   "metadata": {
    "scrolled": true
   },
   "outputs": [
    {
     "data": {
      "text/plain": [
       "12"
      ]
     },
     "execution_count": 14,
     "metadata": {},
     "output_type": "execute_result"
    }
   ],
   "source": [
    "product_sum(s_array)"
   ]
  },
  {
   "cell_type": "code",
   "execution_count": 9,
   "id": "5093ca46",
   "metadata": {},
   "outputs": [
    {
     "data": {
      "text/plain": [
       "10"
      ]
     },
     "execution_count": 9,
     "metadata": {},
     "output_type": "execute_result"
    }
   ],
   "source": [
    "product_sum(level_1)"
   ]
  },
  {
   "cell_type": "code",
   "execution_count": 10,
   "id": "ef4120c9",
   "metadata": {},
   "outputs": [
    {
     "data": {
      "text/plain": [
       "18"
      ]
     },
     "execution_count": 10,
     "metadata": {},
     "output_type": "execute_result"
    }
   ],
   "source": [
    "product_sum(level_2)"
   ]
  },
  {
   "cell_type": "code",
   "execution_count": 11,
   "id": "c2a451d1",
   "metadata": {},
   "outputs": [
    {
     "data": {
      "text/plain": [
       "-5"
      ]
     },
     "execution_count": 11,
     "metadata": {},
     "output_type": "execute_result"
    }
   ],
   "source": [
    "product_sum(level_3)"
   ]
  }
 ],
 "metadata": {
  "kernelspec": {
   "display_name": "Python 3 (ipykernel)",
   "language": "python",
   "name": "python3"
  },
  "language_info": {
   "codemirror_mode": {
    "name": "ipython",
    "version": 3
   },
   "file_extension": ".py",
   "mimetype": "text/x-python",
   "name": "python",
   "nbconvert_exporter": "python",
   "pygments_lexer": "ipython3",
   "version": "3.8.6"
  }
 },
 "nbformat": 4,
 "nbformat_minor": 5
}
