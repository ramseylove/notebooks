{
 "cells": [
  {
   "cell_type": "markdown",
   "id": "93361025",
   "metadata": {},
   "source": [
    "# Selection Sort"
   ]
  },
  {
   "cell_type": "markdown",
   "id": "1f07e003",
   "metadata": {},
   "source": [
    "* Takes in an array of integers and sorts in \"place\"\n",
    "* Uses a current index to track sub_list\n",
    "* First loop finds the smallest integer in the list and swaps at [0] index\n",
    "* current index is then increased, which adjusts range of for loop\n",
    "* Looking for the smallest number\n",
    "\n",
    "* Need to track indexes not values"
   ]
  },
  {
   "cell_type": "code",
   "execution_count": 5,
   "id": "b6ac005e",
   "metadata": {},
   "outputs": [],
   "source": [
    "def selectionSort(array):\n",
    "    currentIdx = 0 # 1\n",
    "    # when currentIdx gets to final index, its in its final state\n",
    "    \n",
    "    while currentIdx < len(array) - 1: # 2\n",
    "        smallestIdx = currentIdx  # 3 and 8\n",
    "        for i in range(currentIdx + 1, len(array)):  # 4\n",
    "            if array[smallestIdx] > array[i]: # 5\n",
    "                smallestIdx = i \n",
    "\n",
    "        swap(currentIdx, smallestIdx, array) # 6\n",
    "        currentIdx += 1 # 7\n",
    "        print(array)\n",
    "    return array\n",
    "            \n",
    "def swap(i, j, array):\n",
    "    array[i], array[j] = array[j], array[i]\n",
    "    return array"
   ]
  },
  {
   "cell_type": "markdown",
   "id": "54e63467",
   "metadata": {},
   "source": [
    "first loop finishes with swapping array[0] 8 with array[2] 2"
   ]
  },
  {
   "cell_type": "markdown",
   "id": "dc9284e7",
   "metadata": {},
   "source": [
    "1. we set the current index of the sub_list of sorted integers\n",
    "2. define the constraint of the while loop to the highest it can be by seting it to length - 1, otherwise will get an out of range index issue\n",
    "3. In the while loop we set the smallest index to the current index\n",
    "4. in the for loop we start the range at 1 plus the current Index to skip the already sorted sub list\n",
    "5. if at any point a value at index[smallest integer], we set the smallest integer to that index\n",
    "6. Once for loop is complete, we swap the values at index [currentIdx] and index [smallest integer]\n",
    "7. Increase the Current Index by 1\n",
    "8. the smallest index is reset to the currentIdx again"
   ]
  },
  {
   "cell_type": "code",
   "execution_count": 7,
   "id": "b267f922",
   "metadata": {},
   "outputs": [],
   "source": [
    "array = [8, 5, 2, 9, 5, 6, 3]"
   ]
  },
  {
   "cell_type": "code",
   "execution_count": 8,
   "id": "bd99ef07",
   "metadata": {},
   "outputs": [
    {
     "name": "stdout",
     "output_type": "stream",
     "text": [
      "[2, 5, 8, 9, 5, 6, 3]\n",
      "[2, 3, 8, 9, 5, 6, 5]\n",
      "[2, 3, 5, 9, 8, 6, 5]\n",
      "[2, 3, 5, 5, 8, 6, 9]\n",
      "[2, 3, 5, 5, 6, 8, 9]\n",
      "[2, 3, 5, 5, 6, 8, 9]\n"
     ]
    },
    {
     "data": {
      "text/plain": [
       "[2, 3, 5, 5, 6, 8, 9]"
      ]
     },
     "execution_count": 8,
     "metadata": {},
     "output_type": "execute_result"
    }
   ],
   "source": [
    "selectionSort(array)"
   ]
  }
 ],
 "metadata": {
  "kernelspec": {
   "display_name": "Python 3 (ipykernel)",
   "language": "python",
   "name": "python3"
  },
  "language_info": {
   "codemirror_mode": {
    "name": "ipython",
    "version": 3
   },
   "file_extension": ".py",
   "mimetype": "text/x-python",
   "name": "python",
   "nbconvert_exporter": "python",
   "pygments_lexer": "ipython3",
   "version": "3.8.6"
  }
 },
 "nbformat": 4,
 "nbformat_minor": 5
}
