{
 "cells": [
  {
   "cell_type": "markdown",
   "id": "ee845ffc",
   "metadata": {},
   "source": [
    "# Threading"
   ]
  },
  {
   "cell_type": "code",
   "execution_count": 2,
   "id": "f82fa667",
   "metadata": {},
   "outputs": [
    {
     "name": "stdout",
     "output_type": "stream",
     "text": [
      "ran\n",
      "9\n",
      "done\n"
     ]
    }
   ],
   "source": [
    "import threading\n",
    "import time\n",
    "\n",
    "\n",
    "def func():\n",
    "    print('ran')\n",
    "    time.sleep(1)\n",
    "    print(\"done\")\n",
    "\n",
    "\n",
    "# if needing to pass in arguments to function, need to define ie args=(4,)\n",
    "x = threading.Thread(target=func)\n",
    "# one thread already running before running this\n",
    "x.start()\n",
    "# shows active threads -> 2 if ran in terminal seperate from jupyter notebook\n",
    "print(threading.active_count())"
   ]
  },
  {
   "cell_type": "code",
   "execution_count": null,
   "id": "38847d09",
   "metadata": {},
   "outputs": [],
   "source": [
    "def count(n):\n",
    "    for i in range(1, n+1):\n",
    "        print(i)\n",
    "        time.sleep(0.01)\n",
    "\n",
    "\n",
    "for _ in range(2):\n",
    "    x = threading.Thread(target=count, args=(10,))\n",
    "    x.start()\n",
    "\n",
    "print(\"done\")"
   ]
  },
  {
   "cell_type": "code",
   "execution_count": null,
   "id": "671f4116",
   "metadata": {},
   "outputs": [],
   "source": [
    "# not proper way to access global context\n",
    "ls = []\n",
    "\n",
    "def count(n):\n",
    "    for i in range(1, n+1):\n",
    "        ls.append(i)\n",
    "        time.sleep(0.5)\n",
    "\n",
    "\n",
    "def count2(n):\n",
    "    for i in range(1, n+1):\n",
    "        ls.append(i)\n",
    "        time.sleep(0.5)\n",
    "\n",
    "\n",
    "# both threads sleep which allows immediately to print out list\n",
    "x = threading.Thread(target=count, args=(5,))\n",
    "x.start()\n",
    "y = threading.Thread(target=count2, args=(5,))\n",
    "y.start()\n",
    "\n",
    "# thread sync\n",
    "# do not move past this line of code until threads stop running\n",
    "x.join()\n",
    "y.join()\n",
    "# Proceeds to print after threads run\n",
    "print(ls)\n",
    "## prints [1,1,2,2,3,3,4,4,5,5]"
   ]
  },
  {
   "cell_type": "code",
   "execution_count": null,
   "id": "7777373a",
   "metadata": {},
   "outputs": [],
   "source": [
    "ls = []\n",
    "\n",
    "def count(n):\n",
    "    for i in range(1, n+1):\n",
    "        ls.append(i)\n",
    "        time.sleep(0.5)\n",
    "\n",
    "\n",
    "def count2(n):\n",
    "    for i in range(1, n+1):\n",
    "        ls.append(i)\n",
    "        time.sleep(0.5)\n",
    "\n",
    "\n",
    "# both threads sleep which allows immediately to print out list\n",
    "x = threading.Thread(target=count, args=(5,))\n",
    "x.start()\n",
    "\n",
    "# moved thread sync here before second thread. Stops it from running\n",
    "x.join()\n",
    "y = threading.Thread(target=count2, args=(5,))\n",
    "y.start()\n",
    "\n",
    "# thread sync\n",
    "# do not move past this line of code until threads stop running\n",
    "\n",
    "y.join()\n",
    "# Proceeds to print after threads run\n",
    "print(ls)\n",
    "## prints [1,,2,3,4,5,1,2,3,4,5]"
   ]
  }
 ],
 "metadata": {
  "kernelspec": {
   "display_name": "Python 3 (ipykernel)",
   "language": "python",
   "name": "python3"
  },
  "language_info": {
   "codemirror_mode": {
    "name": "ipython",
    "version": 3
   },
   "file_extension": ".py",
   "mimetype": "text/x-python",
   "name": "python",
   "nbconvert_exporter": "python",
   "pygments_lexer": "ipython3",
   "version": "3.8.6"
  }
 },
 "nbformat": 4,
 "nbformat_minor": 5
}
