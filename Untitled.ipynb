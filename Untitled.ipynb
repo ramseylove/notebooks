{
 "cells": [
  {
   "cell_type": "markdown",
   "id": "70a85a3e",
   "metadata": {},
   "source": [
    "# Find three largest numbers"
   ]
  },
  {
   "cell_type": "markdown",
   "id": "f3cb006f",
   "metadata": {},
   "source": [
    "## In an unordered list"
   ]
  },
  {
   "cell_type": "markdown",
   "id": "82046900",
   "metadata": {},
   "source": [
    "Time = O(n) where n is the number of items or length of the array\n",
    "Space = 0(1) only storing 3 numbers in largest array"
   ]
  },
  {
   "cell_type": "code",
   "execution_count": 5,
   "id": "2b9a3390",
   "metadata": {},
   "outputs": [],
   "source": [
    "array = [141, 1, 17, -7, -17, -27, 18, 541, 8, 7, 7] # [18, 141, 541]"
   ]
  },
  {
   "cell_type": "markdown",
   "id": "1cf3322f",
   "metadata": {},
   "source": [
    "Need to define 2 helper functions"
   ]
  },
  {
   "cell_type": "code",
   "execution_count": 7,
   "id": "3b04635e",
   "metadata": {},
   "outputs": [],
   "source": [
    "def findThreeLargestNumbers(array):\n",
    "    largest = [ None, None, None ] # initialize with None\n",
    "    \n",
    "    for num in array:\n",
    "        print(num)\n",
    "        updateLargest(largest, num) # pass in the array and current value in array\n",
    "    return largest"
   ]
  },
  {
   "cell_type": "code",
   "execution_count": 3,
   "id": "9d53889b",
   "metadata": {},
   "outputs": [],
   "source": [
    "def updateLargest(largest, num):\n",
    "    if largest[2] is None or num > largest[2]:\n",
    "        shiftAndUpdate(largest, num, 2)\n",
    "    elif largest[1] is None or num > largest[1]:\n",
    "        shiftAndUpdate(largest, num, 1)\n",
    "    elif largest[0] is None or num > largest[0]:\n",
    "        shiftAndUpdate(largest, num, 0)"
   ]
  },
  {
   "cell_type": "code",
   "execution_count": 4,
   "id": "e6ce3499",
   "metadata": {},
   "outputs": [],
   "source": [
    "def shiftAndUpdate(array, num, idx): # idx is last index we want to shift\n",
    "    # [0, 1, 2]\n",
    "    # [x, y, z] # [y, z, num]\n",
    "    # for i in range(0, 0 + 1)\n",
    "    # if i == 2\n",
    "    for i in range(idx + 1): # range is exclusice 0 to idx\n",
    "        if i == idx:\n",
    "            array[i] = num\n",
    "        else:\n",
    "            array[i] = array[i + 1] # for other numbers at idx, taking the number from the slot ahead of it"
   ]
  },
  {
   "cell_type": "code",
   "execution_count": 8,
   "id": "e27472ba",
   "metadata": {},
   "outputs": [
    {
     "name": "stdout",
     "output_type": "stream",
     "text": [
      "141\n",
      "1\n",
      "17\n",
      "-7\n",
      "-17\n",
      "-27\n",
      "18\n",
      "541\n",
      "8\n",
      "7\n",
      "7\n"
     ]
    },
    {
     "data": {
      "text/plain": [
       "[18, 141, 541]"
      ]
     },
     "execution_count": 8,
     "metadata": {},
     "output_type": "execute_result"
    }
   ],
   "source": [
    "findThreeLargestNumbers(array)"
   ]
  },
  {
   "cell_type": "code",
   "execution_count": null,
   "id": "348a2196",
   "metadata": {},
   "outputs": [],
   "source": []
  }
 ],
 "metadata": {
  "kernelspec": {
   "display_name": "Python 3 (ipykernel)",
   "language": "python",
   "name": "python3"
  },
  "language_info": {
   "codemirror_mode": {
    "name": "ipython",
    "version": 3
   },
   "file_extension": ".py",
   "mimetype": "text/x-python",
   "name": "python",
   "nbconvert_exporter": "python",
   "pygments_lexer": "ipython3",
   "version": "3.8.6"
  }
 },
 "nbformat": 4,
 "nbformat_minor": 5
}
